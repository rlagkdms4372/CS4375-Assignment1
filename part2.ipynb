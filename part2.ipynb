{
  "nbformat": 4,
  "nbformat_minor": 0,
  "metadata": {
    "colab": {
      "provenance": []
    },
    "kernelspec": {
      "name": "python3",
      "display_name": "Python 3"
    },
    "language_info": {
      "name": "python"
    }
  },
  "cells": [
    {
      "cell_type": "code",
      "execution_count": 1,
      "metadata": {
        "id": "xGN8ivccrCm-"
      },
      "outputs": [],
      "source": [
        "# The libraries that I used for the part 2\n",
        "import numpy as np\n",
        "import pandas as pd\n",
        "from sklearn.preprocessing import StandardScaler\n",
        "from sklearn.linear_model import SGDRegressor\n",
        "from sklearn.linear_model import LinearRegression\n",
        "from sklearn.metrics import r2_score\n",
        "from sklearn.metrics import mean_squared_error\n",
        "from sklearn.model_selection import train_test_split"
      ]
    },
    {
      "cell_type": "code",
      "source": [
        "# Bring out the dataset \n",
        "mpg = pd.read_csv(\"https://archive.ics.uci.edu/ml/machine-learning-databases/auto-mpg/auto-mpg.data-original\", sep='\\s+', header = None)"
      ],
      "metadata": {
        "id": "yktPJYvqrRsU"
      },
      "execution_count": 2,
      "outputs": []
    },
    {
      "cell_type": "code",
      "source": [
        "# Rename the Column from the dataset, and delete the last column which is the name of car\n",
        "mpg.columns = ['mpg', 'cylinders','displacement', 'horsepower', 'weight', 'acceleration', 'model_year', 'origin', 'car_name']\n",
        "mpg = mpg.drop(['car_name'], axis = 1)\n",
        "# Standarization of dataset\n",
        "scaler=StandardScaler()\n",
        "scaler.fit(mpg)\n",
        "mpg = scaler.transform(mpg)\n",
        "# Rename the Column\n",
        "mpg = pd.DataFrame(mpg,columns=['mpg', 'cylinders','displacement', 'horsepower', 'weight', 'acceleration', 'model_year', 'origin'])"
      ],
      "metadata": {
        "id": "1NLmHROhrwVs"
      },
      "execution_count": 3,
      "outputs": []
    },
    {
      "cell_type": "code",
      "source": [
        "# Drop the not suitable columns(Discrete Variables)\n",
        "mpg = mpg.drop(['origin', 'cylinders', 'model_year'], axis = 1)"
      ],
      "metadata": {
        "id": "QeutdbCrHrPM"
      },
      "execution_count": 4,
      "outputs": []
    },
    {
      "cell_type": "code",
      "source": [
        "# Check out the number of NAs\n",
        "mpg.isna().sum()"
      ],
      "metadata": {
        "colab": {
          "base_uri": "https://localhost:8080/"
        },
        "id": "C2xvhNeCt8LP",
        "outputId": "6a46a786-95ea-493e-a3e4-8b875f0ca890"
      },
      "execution_count": 5,
      "outputs": [
        {
          "output_type": "execute_result",
          "data": {
            "text/plain": [
              "mpg             8\n",
              "displacement    0\n",
              "horsepower      6\n",
              "weight          0\n",
              "acceleration    0\n",
              "dtype: int64"
            ]
          },
          "metadata": {},
          "execution_count": 5
        }
      ]
    },
    {
      "cell_type": "code",
      "source": [
        "# Remove null or NA values\n",
        "mpg.dropna(inplace = True)\n",
        "# Remove any redundant rows\n",
        "mpg.drop_duplicates(inplace = True)"
      ],
      "metadata": {
        "id": "l-dhRVb88L8q"
      },
      "execution_count": 6,
      "outputs": []
    },
    {
      "cell_type": "code",
      "source": [
        "# Find the information about the dataset, and check the NULLs\n",
        "mpg.info()"
      ],
      "metadata": {
        "colab": {
          "base_uri": "https://localhost:8080/"
        },
        "id": "qFQHuL448mnh",
        "outputId": "9d9155ed-e965-4aef-9374-65229749700c"
      },
      "execution_count": 7,
      "outputs": [
        {
          "output_type": "stream",
          "name": "stdout",
          "text": [
            "<class 'pandas.core.frame.DataFrame'>\n",
            "Int64Index: 391 entries, 0 to 405\n",
            "Data columns (total 5 columns):\n",
            " #   Column        Non-Null Count  Dtype  \n",
            "---  ------        --------------  -----  \n",
            " 0   mpg           391 non-null    float64\n",
            " 1   displacement  391 non-null    float64\n",
            " 2   horsepower    391 non-null    float64\n",
            " 3   weight        391 non-null    float64\n",
            " 4   acceleration  391 non-null    float64\n",
            "dtypes: float64(5)\n",
            "memory usage: 18.3 KB\n"
          ]
        }
      ]
    },
    {
      "cell_type": "code",
      "source": [
        "# The target of this dataset is MPG, so Y is MPG, and X is the others except for Y\n",
        "Y = mpg['mpg']\n",
        "X = mpg.drop(['mpg'], axis=1)"
      ],
      "metadata": {
        "id": "ZGnYwV99LmLE"
      },
      "execution_count": 8,
      "outputs": []
    },
    {
      "cell_type": "code",
      "source": [
        "# Split the dataset 80(train) : 20(test)\n",
        "X_train, X_test, Y_train, Y_test = train_test_split(X, Y, test_size = 0.2, random_state=5)"
      ],
      "metadata": {
        "id": "mquXT1iPxB3t"
      },
      "execution_count": 9,
      "outputs": []
    },
    {
      "cell_type": "code",
      "source": [
        "# Change the train and test set into dataframe\n",
        "x_train = pd.DataFrame(X_train)\n",
        "y_train = pd.DataFrame(Y_train)\n",
        "x_test = pd.DataFrame(X_test)\n",
        "y_test = pd.DataFrame(Y_test)"
      ],
      "metadata": {
        "id": "xaCBcEg6vCdf"
      },
      "execution_count": 10,
      "outputs": []
    },
    {
      "cell_type": "code",
      "source": [
        "# add the column names axis which is for constant\n",
        "axis = [1] * len(x_train)\n",
        "x_train.insert(0, 'axis', axis)\n",
        "axis = [1] * len(x_test)\n",
        "x_test.insert(0, 'axis', axis)"
      ],
      "metadata": {
        "id": "kN9cV8A3IhOT"
      },
      "execution_count": 11,
      "outputs": []
    },
    {
      "cell_type": "code",
      "source": [
        "model = SGDRegressor(alpha=0.01, max_iter = 10000)\n",
        "model.fit(x_train, y_train)"
      ],
      "metadata": {
        "colab": {
          "base_uri": "https://localhost:8080/"
        },
        "id": "oO1-I0EkehGT",
        "outputId": "2de32d52-89a5-4028-d7fc-336b2d0a0a14"
      },
      "execution_count": 12,
      "outputs": [
        {
          "output_type": "stream",
          "name": "stderr",
          "text": [
            "/usr/local/lib/python3.8/dist-packages/sklearn/utils/validation.py:993: DataConversionWarning: A column-vector y was passed when a 1d array was expected. Please change the shape of y to (n_samples, ), for example using ravel().\n",
            "  y = column_or_1d(y, warn=True)\n"
          ]
        },
        {
          "output_type": "execute_result",
          "data": {
            "text/plain": [
              "SGDRegressor(alpha=0.01, max_iter=10000)"
            ]
          },
          "metadata": {},
          "execution_count": 12
        }
      ]
    },
    {
      "cell_type": "code",
      "source": [
        "# model evaluation for training set\n",
        "y_train_predict = model.predict(x_train)\n",
        "mse = (mean_squared_error(y_train, y_train_predict))\n",
        "r2 = r2_score(y_train, y_train_predict)\n",
        "\n",
        "print(\"--------------------------------------\")\n",
        "print(\"The model performance for training set\")\n",
        "print(\"--------------------------------------\")\n",
        "print('MSE is {}'.format(round(mse,5)))\n",
        "print('R2 score is {}'.format(round(r2,5)))\n",
        "print(\"--------------------------------------\")\n",
        "print(\"\\n\")"
      ],
      "metadata": {
        "colab": {
          "base_uri": "https://localhost:8080/"
        },
        "id": "qTipqmvbIVuV",
        "outputId": "80c067e3-fc5a-4656-b6ea-7715f49c995a"
      },
      "execution_count": 13,
      "outputs": [
        {
          "output_type": "stream",
          "name": "stdout",
          "text": [
            "--------------------------------------\n",
            "The model performance for training set\n",
            "--------------------------------------\n",
            "MSE is 0.27513\n",
            "R2 score is 0.70664\n",
            "--------------------------------------\n",
            "\n",
            "\n"
          ]
        }
      ]
    },
    {
      "cell_type": "code",
      "source": [
        "# model evaluation for test set\n",
        "y_test_predict = model.predict(x_test)\n",
        "mse = (mean_squared_error(y_test, y_test_predict))\n",
        "r2 = r2_score(y_test, y_test_predict)\n",
        "\n",
        "print(\"--------------------------------------\")\n",
        "print(\"The model performance for test set\")\n",
        "print(\"--------------------------------------\")\n",
        "print('MSE is {}'.format(round(mse,5)))\n",
        "print('R2 score is {}'.format(round(r2,5)))\n",
        "print(\"--------------------------------------\")\n",
        "print(\"\\n\")"
      ],
      "metadata": {
        "colab": {
          "base_uri": "https://localhost:8080/"
        },
        "id": "YufU5dMS1_6V",
        "outputId": "04e0f015-b9c4-4bfa-820c-41d2006b6bf9"
      },
      "execution_count": 14,
      "outputs": [
        {
          "output_type": "stream",
          "name": "stdout",
          "text": [
            "--------------------------------------\n",
            "The model performance for test set\n",
            "--------------------------------------\n",
            "MSE is 0.39364\n",
            "R2 score is 0.64176\n",
            "--------------------------------------\n",
            "\n",
            "\n"
          ]
        }
      ]
    },
    {
      "cell_type": "code",
      "source": [
        "# Doing the linear regression with LinearRegression()\n",
        "linear_regression = LinearRegression()\n",
        "linear_regression.fit(x_train, y_train)"
      ],
      "metadata": {
        "id": "3-UUbkG2vaVj",
        "colab": {
          "base_uri": "https://localhost:8080/"
        },
        "outputId": "17cfc396-38f2-468d-8be3-81d3cff67c0f"
      },
      "execution_count": 15,
      "outputs": [
        {
          "output_type": "execute_result",
          "data": {
            "text/plain": [
              "LinearRegression()"
            ]
          },
          "metadata": {},
          "execution_count": 15
        }
      ]
    },
    {
      "cell_type": "code",
      "source": [
        "# model evaluation for training set\n",
        "y_train_predict = linear_regression.predict(x_train)\n",
        "mse = mean_squared_error(y_train, y_train_predict)\n",
        "r2 = r2_score(y_train, y_train_predict)\n",
        "\n",
        "print(\"--------------------------------------\")\n",
        "print(\"The model performance for training set\")\n",
        "print(\"--------------------------------------\")\n",
        "print('MSE is {}'.format(round(mse,5)))\n",
        "print('R2 score is {}'.format(round(r2,5)))\n",
        "print(\"--------------------------------------\")\n",
        "print(\"\\n\")\n"
      ],
      "metadata": {
        "id": "dnXMCh7cvlch",
        "colab": {
          "base_uri": "https://localhost:8080/"
        },
        "outputId": "44ba4af9-5df1-44b1-a9d5-cf5dd859b59a"
      },
      "execution_count": 16,
      "outputs": [
        {
          "output_type": "stream",
          "name": "stdout",
          "text": [
            "--------------------------------------\n",
            "The model performance for training set\n",
            "--------------------------------------\n",
            "MSE is 0.27171\n",
            "R2 score is 0.71029\n",
            "--------------------------------------\n",
            "\n",
            "\n"
          ]
        }
      ]
    },
    {
      "cell_type": "code",
      "source": [
        "# model evaluation for testing set\n",
        "y_test_predict = linear_regression.predict(X_test)\n",
        "mse = mean_squared_error(Y_test, y_test_predict)\n",
        "r2 = r2_score(Y_test, y_test_predict)\n",
        "print(\"--------------------------------------\")\n",
        "print(\"The model performance for testing set\")\n",
        "print(\"--------------------------------------\")\n",
        "print('MSE is {}'.format(round(mse,5)))\n",
        "print('R2 score is {}'.format(round(r2,5)))\n",
        "print(\"--------------------------------------\")"
      ],
      "metadata": {
        "colab": {
          "base_uri": "https://localhost:8080/"
        },
        "id": "kSG9X5NywKsL",
        "outputId": "82bc6979-e155-49d6-ede3-1ce2671006eb"
      },
      "execution_count": 17,
      "outputs": [
        {
          "output_type": "stream",
          "name": "stdout",
          "text": [
            "--------------------------------------\n",
            "The model performance for testing set\n",
            "--------------------------------------\n",
            "MSE is 0.38762\n",
            "R2 score is 0.64724\n",
            "--------------------------------------\n"
          ]
        }
      ]
    }
  ]
}